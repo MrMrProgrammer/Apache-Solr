{
 "cells": [
  {
   "cell_type": "code",
   "execution_count": 66,
   "metadata": {},
   "outputs": [],
   "source": [
    "import pandas as pd\n",
    "import pysolr"
   ]
  },
  {
   "cell_type": "code",
   "execution_count": 67,
   "metadata": {},
   "outputs": [],
   "source": [
    "def get_dkp_id(url):\n",
    "    try:\n",
    "        chunks = url.split(\"/\")\n",
    "\n",
    "        for chunk in chunks:\n",
    "            if chunk.startswith(\"dkp-\"):\n",
    "                section = chunk.split(\"-\")\n",
    "                return int(section[1])\n",
    "\n",
    "        return \"The entered link is not related to a product.\"\n",
    "\n",
    "    except:\n",
    "        return \"An Error has Occurred\""
   ]
  },
  {
   "cell_type": "code",
   "execution_count": 68,
   "metadata": {},
   "outputs": [],
   "source": [
    "data = pd.read_csv(\"/home/user/Desktop/data - 05.csv\", header=None)"
   ]
  },
  {
   "cell_type": "code",
   "execution_count": 69,
   "metadata": {},
   "outputs": [],
   "source": [
    "dkp_names = list(data[1])\n",
    "dkp_ids = list(data[0])\n",
    "\n",
    "dkp_ids = [str(get_dkp_id(x)) for x in dkp_ids]"
   ]
  },
  {
   "cell_type": "code",
   "execution_count": 70,
   "metadata": {},
   "outputs": [],
   "source": [
    "dkp_names = dkp_names[:1000]\n",
    "dkp_ids = dkp_ids[:1000]"
   ]
  },
  {
   "cell_type": "code",
   "execution_count": 71,
   "metadata": {},
   "outputs": [],
   "source": [
    "solr = pysolr.Solr('http://localhost:8983/solr/Digikala', always_commit=True)"
   ]
  },
  {
   "cell_type": "code",
   "execution_count": 81,
   "metadata": {},
   "outputs": [],
   "source": [
    "result = solr.search(q='_dkp_name:کفش پیاده روی سارزی', rows=100, wt=\"xml\")"
   ]
  },
  {
   "cell_type": "code",
   "execution_count": 87,
   "metadata": {},
   "outputs": [],
   "source": [
    "resl = []"
   ]
  },
  {
   "cell_type": "code",
   "execution_count": 88,
   "metadata": {},
   "outputs": [],
   "source": [
    "for i in result:\n",
    "    resl.append(i[\"_dkp_name\"][0])"
   ]
  },
  {
   "cell_type": "code",
   "execution_count": 83,
   "metadata": {},
   "outputs": [
    {
     "name": "stderr",
     "output_type": "stream",
     "text": [
      "/home/user/.local/lib/python3.10/site-packages/fuzzywuzzy/fuzz.py:11: UserWarning: Using slow pure-python SequenceMatcher. Install python-Levenshtein to remove this warning\n",
      "  warnings.warn('Using slow pure-python SequenceMatcher. Install python-Levenshtein to remove this warning')\n"
     ]
    }
   ],
   "source": [
    "from fuzzywuzzy import fuzz"
   ]
  },
  {
   "cell_type": "code",
   "execution_count": 89,
   "metadata": {},
   "outputs": [
    {
     "name": "stdout",
     "output_type": "stream",
     "text": [
      " کفش پیاده روی سارزی مدل َALVND_M.e.s_A.B_22: 60\n"
     ]
    }
   ],
   "source": [
    "product_name = \"کفش پیاده روی سارزی\"\n",
    "\n",
    "product_names = resl\n",
    "\n",
    "max = 0\n",
    "name = \"\"\n",
    "\n",
    "for product in product_names:\n",
    "    similarity_score = fuzz.ratio(product_name, product)\n",
    "\n",
    "    if similarity_score > max:\n",
    "      max = similarity_score\n",
    "      name = product\n",
    "\n",
    "print(f\"{name}: {max}\")"
   ]
  },
  {
   "cell_type": "code",
   "execution_count": null,
   "metadata": {},
   "outputs": [],
   "source": []
  },
  {
   "cell_type": "code",
   "execution_count": null,
   "metadata": {},
   "outputs": [],
   "source": [
    "for i in range(len(dkp_ids)):\n",
    "    print(f\"{dkp_ids[i]}, {dkp_names[i]}\")"
   ]
  },
  {
   "cell_type": "code",
   "execution_count": null,
   "metadata": {},
   "outputs": [],
   "source": [
    "solr = pysolr.Solr('http://localhost:8983/solr/gettingstarted/data', timeout=10)\n",
    "\n",
    "def load_data_to_solr(dkp_names):\n",
    "    data = [{'id': dkp_id, 'name': dkp_name} for dkp_id, dkp_name in zip(dkp_ids, dkp_names)]\n",
    "    solr.add(dkp_names)\n",
    "\n",
    "def search_similar_data(input_query):\n",
    "    results = solr.search(input_query)\n",
    "    return results.docs\n",
    "\n",
    "if __name__ == \"__main__\":\n",
    "\n",
    "    # load_data_to_solr(dkp_names)\n",
    "\n",
    "    input_query = \"گوشی\"\n",
    "    similar_data = search_similar_data(input_query)\n",
    "    # print(\"نزدیک‌ترین و مشابه‌ترین نتایج به '{}' :\".format(input_query))\n",
    "    # for data in similar_data:\n",
    "    #     print(\"dkp_name: {}\".format(data['name']))\n",
    "    print(similar_data)"
   ]
  },
  {
   "cell_type": "code",
   "execution_count": null,
   "metadata": {},
   "outputs": [],
   "source": [
    "solr.search(\"گوشی\").docs"
   ]
  },
  {
   "cell_type": "code",
   "execution_count": null,
   "metadata": {},
   "outputs": [],
   "source": [
    "import requests\n",
    "response = requests.get(\"https://www.digikala.com/search/?q=LOQ%20core%20i7%2016gb%20256SSD\").json()"
   ]
  },
  {
   "cell_type": "code",
   "execution_count": null,
   "metadata": {},
   "outputs": [],
   "source": []
  },
  {
   "cell_type": "code",
   "execution_count": null,
   "metadata": {},
   "outputs": [],
   "source": []
  }
 ],
 "metadata": {
  "kernelspec": {
   "display_name": "Python 3",
   "language": "python",
   "name": "python3"
  },
  "language_info": {
   "codemirror_mode": {
    "name": "ipython",
    "version": 3
   },
   "file_extension": ".py",
   "mimetype": "text/x-python",
   "name": "python",
   "nbconvert_exporter": "python",
   "pygments_lexer": "ipython3",
   "version": "3.10.12"
  }
 },
 "nbformat": 4,
 "nbformat_minor": 2
}
