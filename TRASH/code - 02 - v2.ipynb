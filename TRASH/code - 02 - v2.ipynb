{
 "cells": [
  {
   "cell_type": "code",
   "execution_count": 8,
   "metadata": {},
   "outputs": [],
   "source": [
    "# ALL\n",
    "\n",
    "import pysolr\n",
    "import pandas as pd\n",
    "from tqdm import tqdm\n",
    "from fuzzywuzzy import fuzz\n",
    "\n",
    "def Levenshtein(product, dkp_names, dkp_ids):\n",
    "\n",
    "    max_score = 0\n",
    "    result = \"\"\n",
    "\n",
    "    for i in range(len(dkp_names)):\n",
    "\n",
    "        similarity_score = fuzz.ratio(product, dkp_names[i])\n",
    "\n",
    "        # print(f\"{similarity_score} : {item}\")\n",
    "\n",
    "        if similarity_score >= max_score:\n",
    "            max_score = similarity_score\n",
    "            result = dkp_names[i] \n",
    "            id = dkp_ids[i]           \n",
    "\n",
    "    return id, result\n",
    "\n",
    "\n",
    "def find_dkp_link(product: str):\n",
    "\n",
    "    solr = pysolr.Solr('http://localhost:8983/solr/Digikala', always_commit=True)\n",
    "    result = solr.search(q=f'dkp_name:{product}', rows=100, wt=\"python\", sort=\"score asc\")\n",
    "    \n",
    "    dkp_names = []\n",
    "    dkp_ids = []\n",
    "\n",
    "    for i in result:\n",
    "        dkp_names.append(i[\"dkp_name\"][0])\n",
    "        dkp_ids.append(i[\"dkp_id\"][0])\n",
    "    \n",
    "    last_result = Levenshtein(product, dkp_names, dkp_ids)\n",
    "    \n",
    "    return last_result"
   ]
  },
  {
   "cell_type": "code",
   "execution_count": 11,
   "metadata": {},
   "outputs": [
    {
     "name": "stdout",
     "output_type": "stream",
     "text": [
      "10007633 | پرده مدل مخمل پانچی کد 7355 سایز 280x140 سانتی متر\n"
     ]
    }
   ],
   "source": [
    "id, name = find_dkp_link(\" پرده مدل مخمل پانچی کد 7355 سایز 280x140 سانتی متر\")\n",
    "print(f\"{id} | {name}\")"
   ]
  },
  {
   "cell_type": "code",
   "execution_count": null,
   "metadata": {},
   "outputs": [],
   "source": []
  },
  {
   "cell_type": "code",
   "execution_count": null,
   "metadata": {},
   "outputs": [],
   "source": []
  }
 ],
 "metadata": {
  "kernelspec": {
   "display_name": "Python 3",
   "language": "python",
   "name": "python3"
  },
  "language_info": {
   "codemirror_mode": {
    "name": "ipython",
    "version": 3
   },
   "file_extension": ".py",
   "mimetype": "text/x-python",
   "name": "python",
   "nbconvert_exporter": "python",
   "pygments_lexer": "ipython3",
   "version": "3.10.12"
  }
 },
 "nbformat": 4,
 "nbformat_minor": 2
}
