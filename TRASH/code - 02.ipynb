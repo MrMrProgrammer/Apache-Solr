{
 "cells": [
  {
   "cell_type": "code",
   "execution_count": 1,
   "metadata": {},
   "outputs": [],
   "source": [
    "import pysolr"
   ]
  },
  {
   "cell_type": "code",
   "execution_count": 16,
   "metadata": {},
   "outputs": [],
   "source": [
    "solr_url = 'http://localhost:8983/solr/'"
   ]
  },
  {
   "cell_type": "code",
   "execution_count": 17,
   "metadata": {},
   "outputs": [],
   "source": [
    "solr = pysolr.Solr(solr_url)"
   ]
  },
  {
   "cell_type": "code",
   "execution_count": 18,
   "metadata": {},
   "outputs": [
    {
     "ename": "SolrError",
     "evalue": "Solr responded with an error (HTTP 404): [Reason: None]\n<p>  Searching for Solr?  You must type the correct path.  Solr will respond.</p>",
     "output_type": "error",
     "traceback": [
      "\u001b[0;31m---------------------------------------------------------------------------\u001b[0m",
      "\u001b[0;31mSolrError\u001b[0m                                 Traceback (most recent call last)",
      "Cell \u001b[0;32mIn[18], line 1\u001b[0m\n\u001b[0;32m----> 1\u001b[0m response \u001b[38;5;241m=\u001b[39m \u001b[43msolr\u001b[49m\u001b[38;5;241;43m.\u001b[39;49m\u001b[43mping\u001b[49m\u001b[43m(\u001b[49m\u001b[43m)\u001b[49m\n\u001b[1;32m      2\u001b[0m \u001b[38;5;28;01mif\u001b[39;00m response \u001b[38;5;241m==\u001b[39m \u001b[38;5;124m'\u001b[39m\u001b[38;5;124mpong\u001b[39m\u001b[38;5;124m'\u001b[39m:\n\u001b[1;32m      3\u001b[0m     \u001b[38;5;28mprint\u001b[39m(\u001b[38;5;124m'\u001b[39m\u001b[38;5;124mConnection to Solr server successful!\u001b[39m\u001b[38;5;124m'\u001b[39m)\n",
      "File \u001b[0;32m~/.local/lib/python3.10/site-packages/pysolr.py:1265\u001b[0m, in \u001b[0;36mSolr.ping\u001b[0;34m(self, handler, **kwargs)\u001b[0m\n\u001b[1;32m   1262\u001b[0m \u001b[38;5;28;01mif\u001b[39;00m \u001b[38;5;28mlen\u001b[39m(params_encoded) \u001b[38;5;241m<\u001b[39m \u001b[38;5;241m1024\u001b[39m:\n\u001b[1;32m   1263\u001b[0m     \u001b[38;5;66;03m# Typical case.\u001b[39;00m\n\u001b[1;32m   1264\u001b[0m     path \u001b[38;5;241m=\u001b[39m \u001b[38;5;124m\"\u001b[39m\u001b[38;5;132;01m%s\u001b[39;00m\u001b[38;5;124m/?\u001b[39m\u001b[38;5;132;01m%s\u001b[39;00m\u001b[38;5;124m\"\u001b[39m \u001b[38;5;241m%\u001b[39m (handler, params_encoded)\n\u001b[0;32m-> 1265\u001b[0m     \u001b[38;5;28;01mreturn\u001b[39;00m \u001b[38;5;28;43mself\u001b[39;49m\u001b[38;5;241;43m.\u001b[39;49m\u001b[43m_send_request\u001b[49m\u001b[43m(\u001b[49m\u001b[38;5;124;43m\"\u001b[39;49m\u001b[38;5;124;43mget\u001b[39;49m\u001b[38;5;124;43m\"\u001b[39;49m\u001b[43m,\u001b[49m\u001b[43m \u001b[49m\u001b[43mpath\u001b[49m\u001b[43m)\u001b[49m\n\u001b[1;32m   1266\u001b[0m \u001b[38;5;28;01melse\u001b[39;00m:\n\u001b[1;32m   1267\u001b[0m     \u001b[38;5;66;03m# Handles very long queries by submitting as a POST.\u001b[39;00m\n\u001b[1;32m   1268\u001b[0m     path \u001b[38;5;241m=\u001b[39m \u001b[38;5;124m\"\u001b[39m\u001b[38;5;132;01m%s\u001b[39;00m\u001b[38;5;124m/\u001b[39m\u001b[38;5;124m\"\u001b[39m \u001b[38;5;241m%\u001b[39m handler\n",
      "File \u001b[0;32m~/.local/lib/python3.10/site-packages/pysolr.py:463\u001b[0m, in \u001b[0;36mSolr._send_request\u001b[0;34m(self, method, path, body, headers, files)\u001b[0m\n\u001b[1;32m    449\u001b[0m     solr_message \u001b[38;5;241m=\u001b[39m \u001b[38;5;28mself\u001b[39m\u001b[38;5;241m.\u001b[39m_extract_error(resp)\n\u001b[1;32m    450\u001b[0m     \u001b[38;5;28mself\u001b[39m\u001b[38;5;241m.\u001b[39mlog\u001b[38;5;241m.\u001b[39merror(\n\u001b[1;32m    451\u001b[0m         error_message,\n\u001b[1;32m    452\u001b[0m         resp\u001b[38;5;241m.\u001b[39mstatus_code,\n\u001b[0;32m   (...)\u001b[0m\n\u001b[1;32m    461\u001b[0m         },\n\u001b[1;32m    462\u001b[0m     )\n\u001b[0;32m--> 463\u001b[0m     \u001b[38;5;28;01mraise\u001b[39;00m SolrError(error_message \u001b[38;5;241m%\u001b[39m (resp\u001b[38;5;241m.\u001b[39mstatus_code, solr_message))\n\u001b[1;32m    465\u001b[0m \u001b[38;5;28;01mreturn\u001b[39;00m force_unicode(resp\u001b[38;5;241m.\u001b[39mcontent)\n",
      "\u001b[0;31mSolrError\u001b[0m: Solr responded with an error (HTTP 404): [Reason: None]\n<p>  Searching for Solr?  You must type the correct path.  Solr will respond.</p>"
     ]
    }
   ],
   "source": [
    "response = solr.ping()\n",
    "if response == 'pong':\n",
    "    print('Connection to Solr server successful!')\n",
    "else:\n",
    "    print('Connection to Solr server failed.')"
   ]
  },
  {
   "cell_type": "code",
   "execution_count": 20,
   "metadata": {},
   "outputs": [
    {
     "ename": "AttributeError",
     "evalue": "'Solr' object has no attribute 'schema'",
     "output_type": "error",
     "traceback": [
      "\u001b[0;31m---------------------------------------------------------------------------\u001b[0m",
      "\u001b[0;31mAttributeError\u001b[0m                            Traceback (most recent call last)",
      "Cell \u001b[0;32mIn[20], line 28\u001b[0m\n\u001b[1;32m      3\u001b[0m solr \u001b[38;5;241m=\u001b[39m pysolr\u001b[38;5;241m.\u001b[39mSolr(\u001b[38;5;124m'\u001b[39m\u001b[38;5;124mhttp://localhost:8983/solr\u001b[39m\u001b[38;5;124m'\u001b[39m, always_commit\u001b[38;5;241m=\u001b[39m\u001b[38;5;28;01mTrue\u001b[39;00m)\n\u001b[1;32m      5\u001b[0m schema \u001b[38;5;241m=\u001b[39m [\n\u001b[1;32m      6\u001b[0m     {\n\u001b[1;32m      7\u001b[0m         \u001b[38;5;124m\"\u001b[39m\u001b[38;5;124mname\u001b[39m\u001b[38;5;124m\"\u001b[39m: \u001b[38;5;124m\"\u001b[39m\u001b[38;5;124mid\u001b[39m\u001b[38;5;124m\"\u001b[39m,\n\u001b[0;32m   (...)\u001b[0m\n\u001b[1;32m     25\u001b[0m     }\n\u001b[1;32m     26\u001b[0m ]\n\u001b[0;32m---> 28\u001b[0m \u001b[43msolr\u001b[49m\u001b[38;5;241;43m.\u001b[39;49m\u001b[43mschema\u001b[49m\u001b[38;5;241m.\u001b[39mcreate(\u001b[38;5;124m'\u001b[39m\u001b[38;5;124mfirst_core\u001b[39m\u001b[38;5;124m'\u001b[39m, schema)\n",
      "\u001b[0;31mAttributeError\u001b[0m: 'Solr' object has no attribute 'schema'"
     ]
    }
   ],
   "source": [
    "import pysolr\n",
    "\n",
    "solr = pysolr.Solr('http://localhost:8983/solr', always_commit=True)\n",
    "\n",
    "schema = [\n",
    "    {\n",
    "        \"name\": \"id\",\n",
    "        \"type\": \"string\",\n",
    "        \"indexed\": True,\n",
    "        \"stored\": True,\n",
    "        \"required\": True,\n",
    "        \"uniqueKey\": True\n",
    "    },\n",
    "    {\n",
    "        \"name\": \"title\",\n",
    "        \"type\": \"text_general\",\n",
    "        \"indexed\": True,\n",
    "        \"stored\": True\n",
    "    },\n",
    "    {\n",
    "        \"name\": \"content\",\n",
    "        \"type\": \"text_general\",\n",
    "        \"indexed\": True,\n",
    "        \"stored\": True\n",
    "    }\n",
    "]\n",
    "\n",
    "solr.schema.create('first_core', schema)"
   ]
  },
  {
   "cell_type": "code",
   "execution_count": null,
   "metadata": {},
   "outputs": [],
   "source": []
  }
 ],
 "metadata": {
  "kernelspec": {
   "display_name": "Python 3",
   "language": "python",
   "name": "python3"
  },
  "language_info": {
   "codemirror_mode": {
    "name": "ipython",
    "version": 3
   },
   "file_extension": ".py",
   "mimetype": "text/x-python",
   "name": "python",
   "nbconvert_exporter": "python",
   "pygments_lexer": "ipython3",
   "version": "3.10.12"
  }
 },
 "nbformat": 4,
 "nbformat_minor": 2
}
