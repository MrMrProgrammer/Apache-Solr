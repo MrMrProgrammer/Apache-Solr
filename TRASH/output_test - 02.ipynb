{
 "cells": [
  {
   "cell_type": "code",
   "execution_count": 30,
   "metadata": {},
   "outputs": [],
   "source": [
    "import pandas as pd\n",
    "import numpy as np"
   ]
  },
  {
   "cell_type": "code",
   "execution_count": 2,
   "metadata": {},
   "outputs": [],
   "source": [
    "data = pd.read_csv(\"/home/user/Desktop/data - 05.csv\", header=None)"
   ]
  },
  {
   "cell_type": "code",
   "execution_count": 3,
   "metadata": {},
   "outputs": [],
   "source": [
    "def get_dkp_id(url):\n",
    "    try:\n",
    "        chunks = url.split(\"/\")\n",
    "\n",
    "        for chunk in chunks:\n",
    "            if chunk.startswith(\"dkp-\"):\n",
    "                section = chunk.split(\"-\")\n",
    "                return int(section[1])\n",
    "\n",
    "        return \"The entered link is not related to a product.\"\n",
    "\n",
    "    except:\n",
    "        return \"An Error has Occurred\""
   ]
  },
  {
   "cell_type": "code",
   "execution_count": 4,
   "metadata": {},
   "outputs": [],
   "source": [
    "dkp_names = list(data[1])\n",
    "dkp_ids = [get_dkp_id(x) for x in list(data[0])]"
   ]
  },
  {
   "cell_type": "code",
   "execution_count": 28,
   "metadata": {},
   "outputs": [],
   "source": [
    "dkp_ids = dkp_ids[:10000]\n",
    "dkp_names = dkp_names[:10000]"
   ]
  },
  {
   "cell_type": "code",
   "execution_count": 32,
   "metadata": {},
   "outputs": [
    {
     "name": "stdout",
     "output_type": "stream",
     "text": [
      "لباس سگ و گربه 27 طرح Tree and Deer کد MH676 سایز M\n",
      "محافظ صفحه نمايش حریم شخصی دیویا مدل DEVPCP01 مناسب برای گوشی موبایل اپل iPhone 11 Pro/XS\n",
      " زه درب عقب چپ تویوتا مدل PZ329-60019-A1 مناسب لندکروز 2011 - 2013\n",
      "کاور کد A7014 مناسب برای گوشی موبایل سامسونگ Galaxy A02s / A03s\n",
      "برچسب پوششی ماهوت مدل Halo Game Series-FullSkin مناسب برای گوشی موبایل شیائومی Redmi Note 11SE\n",
      "پیچ گوشتی چهارسو لایت مدل 5-75\n",
      "هدست بلوتوثی مدل X7\n",
      "جلیقه زنانه السانا مدل آرسین کد 135408\n",
      " کیسه زیپ دار مدل دو زیپ کد 10x15 بسته 500 عددی\n",
      "کاسه یکبار مصرف مدل انار یلدا پلاس بسته 20 عددی\n",
      "کارت پستال ویندی دیزاین مدل   POST 0040 کریسمس\n",
      "برچسب پوششی ماهوت مدل Saadi-FullSkin مناسب برای گوشی موبایل شیائومی Redmi Note 11SE\n",
      "برچسب پوششی ماهوت مدل Sadegh Hedayat مناسب برای گوشی موبایل موتورولا MOTO G 5G\n",
      "لباس سگ و گربه 27 طرح Watermelon and Strawberry کد MH685 سایز XL\n",
      "لباس سگ و گربه 27 طرح Pow کد MH698 سایز M\n",
      "برچسب پوششی ماهوت مدل Sherlock Gnomes مناسب برای گوشی موبایل سامسونگ Galaxy Z FOLD 2\n",
      "برچسب پوششی ماهوت مدل Portrait of an Indian Man مناسب برای گوشی موبایل هوآوی Nova 9 SE\n",
      "اردو خوری برایتون مدل 5 خانه قلبی برگی دسته فلز کد 3059\n",
      "برچسب پوششی ماهوت مدل Tom Hardy مناسب برای گوشی موبایل نوکیا 3.4\n",
      "کاور آکام مدل AMCAa20S1333 مناسب برای گوشی موبایل سامسونگ Galaxy A20S\n",
      "کاور طرح گورخر کد u2296 مناسب برای گوشی موبایل  هوآوی Y5 II\n",
      "جوراب مدل SK-Csdbw363\n",
      "کیف رودوشی بچگانه مدل 23141 کد 215\n",
      "برچسب پوششی ماهوت مدل GEELY مناسب برای گوشی موبایل سامسونگ Galaxy A72\n",
      "ساک سفری مدل سایز بزرگ مسافرتی GLB\n",
      "برچسب پوششی ماهوت مدل Chrysler مناسب برای گوشی موبایل سامسونگ Galaxy Z FOLD 2\n",
      "جاشمعی مدل بتنی \n",
      "برچسب پوششی ماهوت مدل Iran Tile 8 مناسب برای گوشی موبایل نوکیا 3.4\n",
      "سرویس ملحفه مادام کوکو طرح Cher دو نفره 4 تکه\n",
      "استیکر پارچه و لباس مدل dtf طرح یونیکورن کد H15.1171 مجموعه 4 عددی\n",
      "بند درمه مدل Maya  مناسب برای ساعت هوشمند گارمین Venu\n",
      "استیکر پارچه و لباس مدل dtf طرح یونیکورن کد H15.11 مجموعه 12 عددی\n",
      "ظرف مربا و عسل ال سی وایکیکی مدل Ahşap Kapaklı\n",
      "برچسب پوششی ماهوت مدل Electric Guitar مناسب برای گوشی موبایل نوکیا 3.4\n",
      "ست تی شرت آستین بلند و شلوار زنانه ال سی وایکیکی مدل ول سافت دونات\n",
      "کاور مدل XM546 مناسب برای گوشی موبایل شیائومی Mi 11 Lite\n",
      "برچسب پوششی ماهوت مدل Programming 1 مناسب برای گوشی موبایل موتورولا MOTO G 5G\n",
      "برچسب پوششی ماهوت مدل Minimal Gardener Astronaut مناسب برای گوشی موبایل سامسونگ Galaxy A22 4G\n",
      "کاور آکام مدل AMCA12M1336 مناسب برای گوشی موبایل اپل iPhone 12MINI\n",
      "برچسب پوششی ماهوت مدل Futsal مناسب برای گوشی موبایل سامسونگ Galaxy A22 4G\n",
      "تی شرت کلاه دار آستین کوتاه مردانه مدل 1401137 طرح جام جهانی رنگ قرمز\n",
      "برچسب پوششی ماهوت مدل The Incredibles-FullSkin مناسب برای گوشی موبایل آنر X9 5G\n",
      "شلوارک زنانه مدل 51\n",
      "کاور مدل 3110622 مناسب برای گوشی موبایل شیائومی REDMI NOTE 11 PRO\n",
      "برچسب پوششی ماهوت مدل City of Berlin مناسب برای گوشی موبایل هوآوی Nova 9 SE\n",
      "کاور آکام مدل AMCAS21U1340 مناسب برای گوشی موبایل سامسونگ Galaxy S21 ULTRA\n",
      "چراغ خواب مدل کهکشانی\n",
      "برچسب پوششی ماهوت مدل Minimal 3 Triangle Icon مناسب برای گوشی موبایل سامسونگ Galaxy A22 4G\n",
      "گیره مو دخترانه مدل گل سر تینکربل فانتزی کد W03\n",
      "گردنبند خندالو مدل دختر کفشدوزکی و پسر گربه ای کد 30833084\n",
      "گردنبند مدل SK-Stnc-132d1\n",
      "برچسب پوششی ماهوت مدل Ali Qapu مناسب برای گوشی موبایل سامسونگ Galaxy A72\n",
      "برچسب پوششی ماهوت مدل Universe b NASA 10 مناسب برای گوشی موبایل سامسونگ Galaxy Z FOLD 2\n",
      "کاور طرح ژله ای رنگی کدy116 مناسب برای گوشی موبایل سامسونگ galaxy s10\n",
      "پنبه آرایشی رایا مدل توپک کد C1 بسته 100 عددی\n",
      "کاور کد S030 مناسب برای گوشی موبایل سامسونگ Galaxy A03\n",
      "روسری زنانه مدل Blazhia 03\n",
      "کاور قاب ناب طرح Rangi مدل BN مناسب برای گوشی موبایل سامسونگ Galaxy A13 4G\n",
      "آویز گردنبند طلا 18 عیار زنانه فرشته طرح انار یلدا  WNLASZ-000044\n",
      "پیکسل خندالو طرح گیمر GAMER مدل مثلثی کد 3902\n",
      "برچسب پوششی ماهوت مدل Minimal Data Cloud مناسب برای گوشی موبایل موتورولا MOTO G 5G\n",
      "کاور مدل ماربل مناسب برای گوشی موبایل شیائومی Poco X4 Pro 5G\n",
      "پیکسل خندالو طرح لیسا گروه بلک پینک مدل مثلثی کد 3638\n",
      "دستبند سیکس مدل چوبی فلزی مجموعه 5 عددی\n",
      "برچسب پوششی ماهوت مدل Tractor-FullSkin مناسب برای گوشی موبایل شیائومی Redmi Note 11SE\n",
      "برچسب پوششی ماهوت مدل Amir Chakhmaq Square Yazd مناسب برای گوشی موبایل سامسونگ Galaxy A22 4G\n",
      "هودی مردانه مدل ISP-VNHO2114\n",
      "استیکر پارچه و لباس مدل dtf طرح یونیکورن کد H15.971 مجموعه 4 عددی\n",
      "کاور قاب ناب طرح Adid مدل BN مناسب برای گوشی موبایل سامسونگ Galaxy A13 4G\n",
      "برچسب پوششی ماهوت مدل Rudaki-FullSkin مناسب برای گوشی موبایل شیائومی Redmi Note 11SE\n",
      "پالتو زنانه السانا مدل سارو کد 135321\n",
      "جوراب زنانه مدل راه راه\n",
      "اسکناس تزئینی مدل 100 پزو آرژانتین کد 2018\n",
      "دفتر زبان 50 برگ پاشا طرح رنگین کمان 05 مدل سه خط کد 007\n",
      "کفش روزمره زنانه مدل 897\n",
      "استیکر پارچه و لباس مدل dtf طرح یونیکورن کد H15.1146 مجموعه 4 عددی\n",
      "برچسب پوششی ماهوت مدل Portrait of an African Woman-FullSkin مناسب برای گوشی موبایل شیائومی Redmi Note 11SE\n",
      "برچسب پوششی ماهوت مدل Gold Marble مناسب برای گوشی موبایل سامسونگ Galaxy A22 4G\n",
      "برچسب پوششی ماهوت مدل Programming 1 مناسب برای گوشی موبایل نوکیا 3.4\n",
      "آویز گردنبند طلا 18 عیار زنانه فرشته طرح انار یلدا  WNLAAN-000044\n",
      "برچسب پوششی ماهوت مدل Strawberry Shortcake-FullSkin مناسب برای گوشی موبایل آنر X9 5G\n",
      "برچسب پوششی ماهوت مدل Prototype Game Series مناسب برای گوشی موبایل موتورولا MOTO G 5G\n",
      "برچسب پوششی ماهوت مدل tom holland مناسب برای گوشی موبایل سامسونگ Galaxy Z FOLD 2\n",
      "برچسب پوششی ماهوت مدل Green Feather مناسب برای گوشی موبایل موتورولا MOTO G 5G\n",
      "برچسب پوششی ماهوت مدل Cyberpunk Game Series-FullSkin مناسب برای گوشی موبایل شیائومی Redmi Note 11SE\n",
      "ظرف نگهدارنده ایکیا کد 70359199\n",
      "گردنبند خندالو مدل رزی گروه بلک پینک کد 31113103\n",
      "کاور کد b08 مناسب برای گوشی موبایل سامسونگ Galaxy A03\n",
      "پایه نگهدارنده گوشی موبایل پاپ سوکت آکام مدل APSC03937 به همراه پاپ کلیپ\n",
      "برچسب پوششی ماهوت مدل Sheep Skin مناسب برای گوشی موبایل سامسونگ Galaxy Z FOLD 2\n",
      "پرده مدل مخمل پانچی کد 7322 سایز 280x140 سانتی متر\n",
      "کارت پستال ماسا دیزاین مدل POSTSM119 CAT\n",
      "پرده نیروانا مدل مخمل کد 4048 سایز 140×280 سانتی متر\n",
      "کفش روزمره مردانه چرم کروکو مدل 1002006034\n",
      " کیسه زیپ دار مدل دو زیپ کد 13x15 بسته 200 عددی\n",
      "برچسب پوششی ماهوت مدل Firefighter مناسب برای گوشی موبایل سامسونگ Galaxy A22 4G\n",
      "برچسب پوششی ماهوت مدل Universe b NASA 10 مناسب برای گوشی موبایل سامسونگ Galaxy Z FOLD 2\n",
      "برچسب پوششی ماهوت مدل Broken black marble مناسب برای گوشی موبایل سامسونگ Galaxy A22 4G\n",
      "پیکسل خندالو طرح پابجی PUBG مدل مثلثی کد 3799\n",
      "شال زنانه مدل شال نخی طرح جین\n"
     ]
    }
   ],
   "source": [
    "for i in range(100):\n",
    "\n",
    "    x = np.random.choice(dkp_names)\n",
    "    print(x)"
   ]
  },
  {
   "cell_type": "code",
   "execution_count": 25,
   "metadata": {},
   "outputs": [],
   "source": [
    "list = [[\"\", \"ali\", \"4564563\"]]"
   ]
  },
  {
   "cell_type": "code",
   "execution_count": 26,
   "metadata": {},
   "outputs": [],
   "source": [
    "data = pd.DataFrame(data=list)"
   ]
  },
  {
   "cell_type": "code",
   "execution_count": 27,
   "metadata": {},
   "outputs": [
    {
     "data": {
      "text/html": [
       "<div>\n",
       "<style scoped>\n",
       "    .dataframe tbody tr th:only-of-type {\n",
       "        vertical-align: middle;\n",
       "    }\n",
       "\n",
       "    .dataframe tbody tr th {\n",
       "        vertical-align: top;\n",
       "    }\n",
       "\n",
       "    .dataframe thead th {\n",
       "        text-align: right;\n",
       "    }\n",
       "</style>\n",
       "<table border=\"1\" class=\"dataframe\">\n",
       "  <thead>\n",
       "    <tr style=\"text-align: right;\">\n",
       "      <th></th>\n",
       "      <th>0</th>\n",
       "      <th>1</th>\n",
       "      <th>2</th>\n",
       "    </tr>\n",
       "  </thead>\n",
       "  <tbody>\n",
       "    <tr>\n",
       "      <th>0</th>\n",
       "      <td></td>\n",
       "      <td>ali</td>\n",
       "      <td>4564563</td>\n",
       "    </tr>\n",
       "  </tbody>\n",
       "</table>\n",
       "</div>"
      ],
      "text/plain": [
       "  0    1        2\n",
       "0    ali  4564563"
      ]
     },
     "execution_count": 27,
     "metadata": {},
     "output_type": "execute_result"
    }
   ],
   "source": [
    "data.head()"
   ]
  },
  {
   "cell_type": "code",
   "execution_count": null,
   "metadata": {},
   "outputs": [],
   "source": []
  }
 ],
 "metadata": {
  "kernelspec": {
   "display_name": "Python 3",
   "language": "python",
   "name": "python3"
  },
  "language_info": {
   "codemirror_mode": {
    "name": "ipython",
    "version": 3
   },
   "file_extension": ".py",
   "mimetype": "text/x-python",
   "name": "python",
   "nbconvert_exporter": "python",
   "pygments_lexer": "ipython3",
   "version": "3.10.12"
  }
 },
 "nbformat": 4,
 "nbformat_minor": 2
}
