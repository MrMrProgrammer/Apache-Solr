{
 "cells": [
  {
   "cell_type": "code",
   "execution_count": 1,
   "metadata": {},
   "outputs": [],
   "source": [
    "import pandas as pd\n",
    "import numpy as np"
   ]
  },
  {
   "cell_type": "code",
   "execution_count": 1,
   "metadata": {},
   "outputs": [
    {
     "name": "stderr",
     "output_type": "stream",
     "text": [
      "/home/user/.local/lib/python3.10/site-packages/fuzzywuzzy/fuzz.py:11: UserWarning: Using slow pure-python SequenceMatcher. Install python-Levenshtein to remove this warning\n",
      "  warnings.warn('Using slow pure-python SequenceMatcher. Install python-Levenshtein to remove this warning')\n"
     ]
    }
   ],
   "source": [
    "# ALL\n",
    "\n",
    "import pysolr\n",
    "import pandas as pd\n",
    "from tqdm import tqdm\n",
    "from fuzzywuzzy import fuzz\n",
    "\n",
    "def Levenshtein(product, dkp_names, dkp_ids):\n",
    "\n",
    "    max_score = 0\n",
    "    result = \"\"\n",
    "\n",
    "    for i in range(len(dkp_names)):\n",
    "\n",
    "        similarity_score = fuzz.ratio(product, dkp_names[i])\n",
    "\n",
    "        # print(f\"{similarity_score} : {item}\")\n",
    "\n",
    "        if similarity_score >= max_score:\n",
    "            max_score = similarity_score\n",
    "            result = dkp_names[i] \n",
    "            id = dkp_ids[i]           \n",
    "\n",
    "    return id, result\n",
    "\n",
    "\n",
    "def find_dkp_link2(product: str):\n",
    "\n",
    "    solr = pysolr.Solr('http://localhost:8983/solr/Digikala', always_commit=True)\n",
    "    result = solr.search(q=f'dkp_name:{product}', df=\"dkp_name\", defType=\"lucene\", **{'q.op' : \"and\"})\n",
    "    \n",
    "    dkp_names = []\n",
    "    dkp_ids = []\n",
    "\n",
    "    for i in result:\n",
    "        dkp_names.append(i[\"dkp_name\"][0])\n",
    "        dkp_ids.append(i[\"dkp_id\"][0])\n",
    "        # print(i[\"dkp_name\"][0])\n",
    "    \n",
    "    # last_result = Levenshtein(product, dkp_names, dkp_ids)\n",
    "    \n",
    "    return dkp_ids, dkp_names"
   ]
  },
  {
   "cell_type": "code",
   "execution_count": 52,
   "metadata": {},
   "outputs": [],
   "source": [
    "def get_dkp_id(url):\n",
    "    try:\n",
    "        chunks = url.split(\"/\")\n",
    "\n",
    "        for chunk in chunks:\n",
    "            if chunk.startswith(\"dkp-\"):\n",
    "                section = chunk.split(\"-\")\n",
    "                return int(section[1])\n",
    "\n",
    "        return \"The entered link is not related to a product.\"\n",
    "\n",
    "    except:\n",
    "        return \"An Error has Occurred\""
   ]
  },
  {
   "cell_type": "code",
   "execution_count": null,
   "metadata": {},
   "outputs": [],
   "source": [
    "data = pd.read_csv(\"/home/user/Desktop/data - 05.csv\", header=None)"
   ]
  },
  {
   "cell_type": "code",
   "execution_count": 5,
   "metadata": {},
   "outputs": [],
   "source": [
    "dkp_names = list(data[1])\n",
    "dkp_ids = [get_dkp_id(x) for x in list(data[0])]"
   ]
  },
  {
   "cell_type": "code",
   "execution_count": 6,
   "metadata": {},
   "outputs": [],
   "source": [
    "zip_data = list(zip(dkp_ids[:10000], dkp_names[:10000]))"
   ]
  },
  {
   "cell_type": "code",
   "execution_count": 7,
   "metadata": {},
   "outputs": [
    {
     "data": {
      "text/plain": [
       "(10000130, 'کش ورزشی مدل تناسب اندام اف پلاس مدل A12')"
      ]
     },
     "execution_count": 7,
     "metadata": {},
     "output_type": "execute_result"
    }
   ],
   "source": [
    "zip_data[100]"
   ]
  },
  {
   "cell_type": "code",
   "execution_count": 8,
   "metadata": {},
   "outputs": [
    {
     "data": {
      "text/plain": [
       "11302733"
      ]
     },
     "execution_count": 8,
     "metadata": {},
     "output_type": "execute_result"
    }
   ],
   "source": [
    "np.random.choice(dkp_ids)"
   ]
  },
  {
   "cell_type": "code",
   "execution_count": 116,
   "metadata": {},
   "outputs": [
    {
     "name": "stdout",
     "output_type": "stream",
     "text": [
      "✅ 10001936 <---> 10001936\n",
      "✅ 10007847 <---> 10007847\n",
      "✅ 10003157 <---> 10003157\n",
      "✅ 10004393 <---> 10004393\n",
      "✅ 10004612 <---> 10004612\n",
      "✅ 10001593 <---> 10001593\n",
      "10009794 <---> 10010317\n",
      "✅ 10004092 <---> 10004092\n",
      "✅ 10007830 <---> 10007830\n",
      "✅ 10007473 <---> 10007473\n",
      "✅ 10005352 <---> 10005352\n",
      "✅ 10005472 <---> 10005472\n",
      "✅ 10010997 <---> 10010997\n",
      "✅ 10005090 <---> 10005090\n",
      "✅ 10004404 <---> 10004404\n",
      "✅ 10002524 <---> 10002524\n",
      "✅ 10004167 <---> 10004167\n",
      "✅ 10008823 <---> 10008823\n",
      "✅ 10008019 <---> 10008019\n",
      "✅ 10008873 <---> 10008873\n",
      "✅ 10002174 <---> 10002174\n",
      "✅ 10002787 <---> 10002787\n",
      "✅ 10005733 <---> 10005733\n",
      "✅ 10009034 <---> 10009034\n",
      "✅ 10001886 <---> 10001886\n",
      "✅ 10005198 <---> 10005198\n",
      "✅ 10007190 <---> 10007190\n",
      "✅ 10002942 <---> 10002942\n",
      "✅ 10007106 <---> 10007106\n",
      "10006046 <---> 10006247\n",
      "✅ 10008552 <---> 10008552\n",
      "✅ 10003055 <---> 10003055\n",
      "✅ 10006269 <---> 10006269\n",
      "✅ 10010852 <---> 10010852\n",
      "✅ 10007265 <---> 10007265\n",
      "✅ 10006693 <---> 10006693\n",
      "✅ 10008679 <---> 10008679\n",
      "✅ 10004088 <---> 10004088\n",
      "✅ 10008449 <---> 10008449\n",
      "✅ 10008311 <---> 10008311\n",
      "✅ 10001040 <---> 10001040\n",
      "✅ 10004905 <---> 10004905\n",
      "✅ 10003371 <---> 10003371\n",
      "✅ 10000444 <---> 10000444\n",
      "✅ 10006654 <---> 10006654\n",
      "✅ 10003771 <---> 10003771\n",
      "✅ 10002831 <---> 10002831\n",
      "✅ 10001328 <---> 10001328\n",
      "✅ 10000276 <---> 10000276\n",
      "✅ 10000620 <---> 10000620\n",
      "✅ 10010801 <---> 10010801\n",
      "✅ 10005295 <---> 10005295\n",
      "10002520 <---> 10002527\n",
      "✅ 10003758 <---> 10003758\n",
      "✅ 10004547 <---> 10004547\n",
      "✅ 10000227 <---> 10000227\n",
      "✅ 10005498 <---> 10005498\n",
      "10001174 <---> 10002153\n",
      "✅ 10000102 <---> 10000102\n",
      "✅ 10004997 <---> 10004997\n",
      "10009678 <---> 10009865\n",
      "✅ 10003241 <---> 10003241\n",
      "✅ 10007944 <---> 10007944\n",
      "✅ 10009311 <---> 10009311\n",
      "✅ 10005282 <---> 10005282\n",
      "✅ 10004463 <---> 10004463\n",
      "✅ 10010769 <---> 10010769\n",
      "✅ 10007291 <---> 10007291\n",
      "✅ 10007662 <---> 10007662\n",
      "✅ 10007391 <---> 10007391\n",
      "✅ 10002597 <---> 10002597\n",
      "✅ 10006834 <---> 10006834\n",
      "✅ 10000865 <---> 10000865\n",
      "✅ 10007881 <---> 10007881\n",
      "✅ 10009815 <---> 10009815\n",
      "✅ 10008809 <---> 10008809\n",
      "10006394 <---> 10006396\n",
      "✅ 10008336 <---> 10008336\n",
      "✅ 10008337 <---> 10008337\n",
      "✅ 10001579 <---> 10001579\n",
      "10002537 <---> 10004737\n",
      "✅ 10001632 <---> 10001632\n",
      "✅ 10008996 <---> 10008996\n",
      "✅ 10008260 <---> 10008260\n",
      "✅ 10007545 <---> 10007545\n",
      "✅ 10005543 <---> 10005543\n",
      "✅ 10006507 <---> 10006507\n",
      "10002339 <---> 10002885\n",
      "✅ 10004689 <---> 10004689\n",
      "✅ 10000412 <---> 10000412\n",
      "✅ 10003273 <---> 10003273\n",
      "✅ 10010897 <---> 10010897\n",
      "✅ 10000866 <---> 10000866\n",
      "✅ 10002252 <---> 10002252\n",
      "✅ 10001792 <---> 10001792\n",
      "✅ 10003117 <---> 10003117\n",
      "✅ 10007400 <---> 10007400\n",
      "✅ 10003117 <---> 10003117\n",
      "✅ 10003324 <---> 10003324\n",
      "10011187 <---> 10011199\n",
      "=========================================\n",
      "✅ : 91%\n"
     ]
    }
   ],
   "source": [
    "tik = 0\n",
    "untik = 0\n",
    "\n",
    "for i in range(100):\n",
    "\n",
    "    try:\n",
    "\n",
    "        x = np.random.randint(0, len(zip_data))\n",
    "\n",
    "        random_item = zip_data[x]\n",
    "\n",
    "        # print(random_item)\n",
    "\n",
    "        name = find_dkp_link2(random_item[1])\n",
    "\n",
    "        if name[0][0] == random_item[0] :\n",
    "            tik += 1\n",
    "            print(f\"✅ {name[0][0]} <---> {random_item[0]}\")\n",
    "\n",
    "        else:\n",
    "            untik += 1\n",
    "            print(f\"{name[0][0]} <---> {random_item[0]}\")\n",
    "        \n",
    "    except:\n",
    "        continue\n",
    "\n",
    "print(\"=========================================\")\n",
    "print(f\"✅ : {tik}%\")"
   ]
  },
  {
   "cell_type": "code",
   "execution_count": 53,
   "metadata": {},
   "outputs": [
    {
     "data": {
      "text/plain": [
       "(10010473,\n",
       " 'مودم 3G/4G ایرانسل مدل i40 B1 به همراه سیم کارت و 60 گیگا بایت اینترنت 3 ماهه')"
      ]
     },
     "execution_count": 53,
     "metadata": {},
     "output_type": "execute_result"
    }
   ],
   "source": [
    "find_dkp_link(\"برچسب پوششی ماهوت مدل Blue-Leather مناسب برای گوشی موبایل هوآوی Nova Y70\")"
   ]
  },
  {
   "cell_type": "code",
   "execution_count": 88,
   "metadata": {},
   "outputs": [],
   "source": []
  },
  {
   "cell_type": "code",
   "execution_count": 122,
   "metadata": {},
   "outputs": [
    {
     "data": {
      "text/plain": [
       "([10000153, 10000209, 10000108],\n",
       " ['برچسب پوششی ماهوت مدل Blue-Leather مناسب برای گوشی موبایل هوآوی Nova Y70',\n",
       "  'برچسب پوششی ماهوت مدل Deep-Blue-Leather مناسب برای گوشی موبایل هوآوی Nova Y70',\n",
       "  'برچسب پوششی ماهوت مدل Blue-Crocodile-Leather مناسب برای گوشی موبایل هوآوی Nova Y70'])"
      ]
     },
     "execution_count": 122,
     "metadata": {},
     "output_type": "execute_result"
    }
   ],
   "source": [
    "x = find_dkp_link2(\"Blue-Leather\")\n",
    "x"
   ]
  },
  {
   "cell_type": "code",
   "execution_count": null,
   "metadata": {},
   "outputs": [],
   "source": [
    "# ALL\n",
    "\n",
    "import pysolr\n",
    "import pandas as pd\n",
    "from tqdm import tqdm\n",
    "from fuzzywuzzy import fuzz\n",
    "\n",
    "def Levenshtein(product, dkp_names, dkp_ids):\n",
    "\n",
    "    max_score = 0\n",
    "    result = \"\"\n",
    "\n",
    "    for i in range(len(dkp_names)):\n",
    "\n",
    "        similarity_score = fuzz.ratio(product, dkp_names[i])\n",
    "\n",
    "        # print(f\"{similarity_score} : {item}\")\n",
    "\n",
    "        if similarity_score >= max_score:\n",
    "            max_score = similarity_score\n",
    "            result = dkp_names[i] \n",
    "            id = dkp_ids[i]           \n",
    "\n",
    "    return id, result\n",
    "\n",
    "\n",
    "def find_dkp_link(product: str):\n",
    "\n",
    "    solr = pysolr.Solr('http://localhost:8983/solr/Digikala', always_commit=True)\n",
    "    result = solr.search(q=f'dkp_name:{product}', wt=\"python\", op=\"AND\", df=\"dkp_name\", defType=\"lucene\")\n",
    "    \n",
    "    dkp_names = []\n",
    "    dkp_ids = []\n",
    "\n",
    "    for i in result:\n",
    "        dkp_names.append(i[\"dkp_name\"][0])\n",
    "        dkp_ids.append(i[\"dkp_id\"][0])\n",
    "    \n",
    "    last_result = Levenshtein(product, dkp_names, dkp_ids)\n",
    "    \n",
    "    return last_result"
   ]
  },
  {
   "cell_type": "code",
   "execution_count": null,
   "metadata": {},
   "outputs": [],
   "source": [
    "# ALL\n",
    "\n",
    "import pysolr\n",
    "import pandas as pd\n",
    "from tqdm import tqdm\n",
    "from fuzzywuzzy import fuzz\n",
    "\n",
    "def Levenshtein(product, dkp_names, dkp_ids):\n",
    "\n",
    "    max_score = 0\n",
    "    result = \"\"\n",
    "\n",
    "    for i in range(len(dkp_names)):\n",
    "\n",
    "        similarity_score = fuzz.ratio(product, dkp_names[i])\n",
    "\n",
    "        # print(f\"{similarity_score} : {item}\")\n",
    "\n",
    "        if similarity_score >= max_score:\n",
    "            max_score = similarity_score\n",
    "            result = dkp_names[i] \n",
    "            id = dkp_ids[i]           \n",
    "\n",
    "    return id, result\n",
    "\n",
    "\n",
    "def find_dkp_link(product: str):\n",
    "\n",
    "    solr = pysolr.Solr('http://localhost:8983/solr/Digikala', always_commit=True)\n",
    "    result = solr.search(q=f'dkp_name:{product}', wt=\"python\", op=\"AND\", df=\"dkp_name\", defType=\"lucene\")\n",
    "    \n",
    "    dkp_names = []\n",
    "    dkp_ids = []\n",
    "\n",
    "    for i in result:\n",
    "        dkp_names.append(i[\"dkp_name\"][0])\n",
    "        dkp_ids.append(i[\"dkp_id\"][0])\n",
    "    \n",
    "    last_result = Levenshtein(product, dkp_names, dkp_ids)\n",
    "    \n",
    "    return last_result"
   ]
  },
  {
   "cell_type": "code",
   "execution_count": 113,
   "metadata": {},
   "outputs": [],
   "source": [
    "import pysolr\n",
    "import pandas as pd\n",
    "from tqdm import tqdm\n",
    "\n",
    "def find_dkp_link(product: str):\n",
    "\n",
    "    solr = pysolr.Solr('http://localhost:8983/solr/Digikala', always_commit=True)\n",
    "    result = solr.search(q=f'dkp_name:{product}', df=\"dkp_name\", defType=\"lucene\", **{'q.op' : \"and\"})\n",
    "    \n",
    "    dkp_names = []\n",
    "    dkp_ids = []\n",
    "\n",
    "    for i in result:\n",
    "        print(f\"id : {i['dkp_id'][0]} \\t | name : {i['dkp_name'][0]}\")"
   ]
  },
  {
   "cell_type": "code",
   "execution_count": 112,
   "metadata": {},
   "outputs": [
    {
     "name": "stdout",
     "output_type": "stream",
     "text": [
      "id : 2999023 \t | name : کیف دوشی طرح سوپرمن کد KD69\n",
      "id : 1766856 \t | name : کیف دوشی طرح سوپرمن مدل KP-135\n",
      "id : 1644701 \t | name : کیف دوشی طرح بتمن سوپرمن کد k171\n",
      "id : 1644721 \t | name : کیف دوشی طرح بتمن سوپرمن کد k173\n",
      "id : 1815916 \t | name : کیف دوشی طرح سوپرمن مدل KP-159\n"
     ]
    }
   ],
   "source": [
    "find_dkp_link(\"کیف دوشی سوپرمن\")"
   ]
  },
  {
   "cell_type": "code",
   "execution_count": 2,
   "metadata": {},
   "outputs": [
    {
     "name": "stdout",
     "output_type": "stream",
     "text": [
      "id : 80241 \t | \t name : بازی کامپیوتری H.A.W.X 2\n",
      "id : 2230424 \t | \t name : بازی H.A.W.X.2 مخصوص XBOX 360\n",
      "id : 477781 \t | \t name : بازی H.A.W.X.2 مخصوص ایکس باکس 360\n",
      "id : 502003 \t | \t name : بازی Tom Clancys H.A.W.X.2 مخصوص PC\n",
      "id : 378194 \t | \t name : بازی H.A.W.X.2 Tom Clancy's مخصوص PC\n",
      "id : 517454 \t | \t name : بازی Tom Clancys H.A.W.X.2 مخصوص PC\n",
      "id : 16067 \t | \t name : بازی کامپیوتری Arma 2\n",
      "id : 72114 \t | \t name : بازی کامپیوتری Sanctum 2\n",
      "id : 76776 \t | \t name : بازی کامپیوتری Portal 2\n",
      "id : 81553 \t | \t name : بازی کامپیوتری Crysis 2\n"
     ]
    }
   ],
   "source": [
    "query = \"بازی کامپیوتری H.A.W.X 2\"\n",
    "\n",
    "solr = pysolr.Solr('http://localhost:8983/solr/Digikala', always_commit=True)\n",
    "result = solr.search(q=f\"dkp_name:{query}\", \n",
    "                     qf='dkp_name',\n",
    "                     mm='2<-1 5<70%',\n",
    "                     pf='dkp_name^10',\n",
    "                     df='dkp_name', \n",
    "                     defType='edismax',\n",
    "                     **{'q.op' : \"or\"})\n",
    "\n",
    "for i in result:\n",
    "    print(f\"id : {i['dkp_id'][0]} \\t | \\t name : {i['dkp_name'][0]}\")\n",
    "    # break"
   ]
  },
  {
   "cell_type": "code",
   "execution_count": null,
   "metadata": {},
   "outputs": [],
   "source": [
    "id : 695094 \t | \t name : پارچه مانتویی ربانی تکست گیپور 00116764\n",
    "id : 695127 \t | \t name : پارچه مانتویی ربانی تکست گیپور 00116764\n",
    "id : 695143 \t | \t name : پارچه مانتویی ربانی تکست گیپور 00116764\n",
    "id : 695161 \t | \t name : پارچه مانتویی ربانی تکست گیپور 00116764"
   ]
  },
  {
   "cell_type": "code",
   "execution_count": null,
   "metadata": {},
   "outputs": [],
   "source": []
  }
 ],
 "metadata": {
  "kernelspec": {
   "display_name": "Python 3",
   "language": "python",
   "name": "python3"
  },
  "language_info": {
   "codemirror_mode": {
    "name": "ipython",
    "version": 3
   },
   "file_extension": ".py",
   "mimetype": "text/x-python",
   "name": "python",
   "nbconvert_exporter": "python",
   "pygments_lexer": "ipython3",
   "version": "3.10.12"
  }
 },
 "nbformat": 4,
 "nbformat_minor": 2
}
