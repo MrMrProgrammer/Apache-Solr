{
 "cells": [
  {
   "cell_type": "code",
   "execution_count": 1,
   "metadata": {},
   "outputs": [],
   "source": [
    "import pandas as pd\n",
    "from tqdm import tqdm\n",
    "import pysolr"
   ]
  },
  {
   "cell_type": "code",
   "execution_count": 2,
   "metadata": {},
   "outputs": [],
   "source": [
    "def get_dkp_id(url):\n",
    "    try:\n",
    "        chunks = url.split(\"/\")\n",
    "\n",
    "        for chunk in chunks:\n",
    "            if chunk.startswith(\"dkp-\"):\n",
    "                section = chunk.split(\"-\")\n",
    "                return int(section[1])\n",
    "\n",
    "        return \"The entered link is not related to a product.\"\n",
    "\n",
    "    except:\n",
    "        return \"An Error has Occurred\""
   ]
  },
  {
   "cell_type": "code",
   "execution_count": 3,
   "metadata": {},
   "outputs": [
    {
     "ename": "ParserError",
     "evalue": "Error tokenizing data. C error: Calling read(nbytes) on source failed. Try engine='python'.",
     "output_type": "error",
     "traceback": [
      "\u001b[0;31m---------------------------------------------------------------------------\u001b[0m",
      "\u001b[0;31mParserError\u001b[0m                               Traceback (most recent call last)",
      "Cell \u001b[0;32mIn[3], line 1\u001b[0m\n\u001b[0;32m----> 1\u001b[0m file_01 \u001b[38;5;241m=\u001b[39m \u001b[43mpd\u001b[49m\u001b[38;5;241;43m.\u001b[39;49m\u001b[43mread_csv\u001b[49m\u001b[43m(\u001b[49m\u001b[38;5;124;43m\"\u001b[39;49m\u001b[38;5;124;43m/home/user/Desktop/data - 01.csv\u001b[39;49m\u001b[38;5;124;43m\"\u001b[39;49m\u001b[43m,\u001b[49m\u001b[43m \u001b[49m\u001b[43mheader\u001b[49m\u001b[38;5;241;43m=\u001b[39;49m\u001b[38;5;28;43;01mNone\u001b[39;49;00m\u001b[43m)\u001b[49m\n\u001b[1;32m      3\u001b[0m dkp_names \u001b[38;5;241m=\u001b[39m \u001b[38;5;28mlist\u001b[39m(file_01[\u001b[38;5;241m1\u001b[39m])\n\u001b[1;32m      4\u001b[0m dkp_ids \u001b[38;5;241m=\u001b[39m \u001b[38;5;28mlist\u001b[39m(file_01[\u001b[38;5;241m0\u001b[39m])\n",
      "File \u001b[0;32m~/.local/lib/python3.10/site-packages/pandas/io/parsers/readers.py:948\u001b[0m, in \u001b[0;36mread_csv\u001b[0;34m(filepath_or_buffer, sep, delimiter, header, names, index_col, usecols, dtype, engine, converters, true_values, false_values, skipinitialspace, skiprows, skipfooter, nrows, na_values, keep_default_na, na_filter, verbose, skip_blank_lines, parse_dates, infer_datetime_format, keep_date_col, date_parser, date_format, dayfirst, cache_dates, iterator, chunksize, compression, thousands, decimal, lineterminator, quotechar, quoting, doublequote, escapechar, comment, encoding, encoding_errors, dialect, on_bad_lines, delim_whitespace, low_memory, memory_map, float_precision, storage_options, dtype_backend)\u001b[0m\n\u001b[1;32m    935\u001b[0m kwds_defaults \u001b[38;5;241m=\u001b[39m _refine_defaults_read(\n\u001b[1;32m    936\u001b[0m     dialect,\n\u001b[1;32m    937\u001b[0m     delimiter,\n\u001b[0;32m   (...)\u001b[0m\n\u001b[1;32m    944\u001b[0m     dtype_backend\u001b[38;5;241m=\u001b[39mdtype_backend,\n\u001b[1;32m    945\u001b[0m )\n\u001b[1;32m    946\u001b[0m kwds\u001b[38;5;241m.\u001b[39mupdate(kwds_defaults)\n\u001b[0;32m--> 948\u001b[0m \u001b[38;5;28;01mreturn\u001b[39;00m \u001b[43m_read\u001b[49m\u001b[43m(\u001b[49m\u001b[43mfilepath_or_buffer\u001b[49m\u001b[43m,\u001b[49m\u001b[43m \u001b[49m\u001b[43mkwds\u001b[49m\u001b[43m)\u001b[49m\n",
      "File \u001b[0;32m~/.local/lib/python3.10/site-packages/pandas/io/parsers/readers.py:617\u001b[0m, in \u001b[0;36m_read\u001b[0;34m(filepath_or_buffer, kwds)\u001b[0m\n\u001b[1;32m    614\u001b[0m     \u001b[38;5;28;01mreturn\u001b[39;00m parser\n\u001b[1;32m    616\u001b[0m \u001b[38;5;28;01mwith\u001b[39;00m parser:\n\u001b[0;32m--> 617\u001b[0m     \u001b[38;5;28;01mreturn\u001b[39;00m \u001b[43mparser\u001b[49m\u001b[38;5;241;43m.\u001b[39;49m\u001b[43mread\u001b[49m\u001b[43m(\u001b[49m\u001b[43mnrows\u001b[49m\u001b[43m)\u001b[49m\n",
      "File \u001b[0;32m~/.local/lib/python3.10/site-packages/pandas/io/parsers/readers.py:1748\u001b[0m, in \u001b[0;36mTextFileReader.read\u001b[0;34m(self, nrows)\u001b[0m\n\u001b[1;32m   1741\u001b[0m nrows \u001b[38;5;241m=\u001b[39m validate_integer(\u001b[38;5;124m\"\u001b[39m\u001b[38;5;124mnrows\u001b[39m\u001b[38;5;124m\"\u001b[39m, nrows)\n\u001b[1;32m   1742\u001b[0m \u001b[38;5;28;01mtry\u001b[39;00m:\n\u001b[1;32m   1743\u001b[0m     \u001b[38;5;66;03m# error: \"ParserBase\" has no attribute \"read\"\u001b[39;00m\n\u001b[1;32m   1744\u001b[0m     (\n\u001b[1;32m   1745\u001b[0m         index,\n\u001b[1;32m   1746\u001b[0m         columns,\n\u001b[1;32m   1747\u001b[0m         col_dict,\n\u001b[0;32m-> 1748\u001b[0m     ) \u001b[38;5;241m=\u001b[39m \u001b[38;5;28;43mself\u001b[39;49m\u001b[38;5;241;43m.\u001b[39;49m\u001b[43m_engine\u001b[49m\u001b[38;5;241;43m.\u001b[39;49m\u001b[43mread\u001b[49m\u001b[43m(\u001b[49m\u001b[43m  \u001b[49m\u001b[38;5;66;43;03m# type: ignore[attr-defined]\u001b[39;49;00m\n\u001b[1;32m   1749\u001b[0m \u001b[43m        \u001b[49m\u001b[43mnrows\u001b[49m\n\u001b[1;32m   1750\u001b[0m \u001b[43m    \u001b[49m\u001b[43m)\u001b[49m\n\u001b[1;32m   1751\u001b[0m \u001b[38;5;28;01mexcept\u001b[39;00m \u001b[38;5;167;01mException\u001b[39;00m:\n\u001b[1;32m   1752\u001b[0m     \u001b[38;5;28mself\u001b[39m\u001b[38;5;241m.\u001b[39mclose()\n",
      "File \u001b[0;32m~/.local/lib/python3.10/site-packages/pandas/io/parsers/c_parser_wrapper.py:234\u001b[0m, in \u001b[0;36mCParserWrapper.read\u001b[0;34m(self, nrows)\u001b[0m\n\u001b[1;32m    232\u001b[0m \u001b[38;5;28;01mtry\u001b[39;00m:\n\u001b[1;32m    233\u001b[0m     \u001b[38;5;28;01mif\u001b[39;00m \u001b[38;5;28mself\u001b[39m\u001b[38;5;241m.\u001b[39mlow_memory:\n\u001b[0;32m--> 234\u001b[0m         chunks \u001b[38;5;241m=\u001b[39m \u001b[38;5;28;43mself\u001b[39;49m\u001b[38;5;241;43m.\u001b[39;49m\u001b[43m_reader\u001b[49m\u001b[38;5;241;43m.\u001b[39;49m\u001b[43mread_low_memory\u001b[49m\u001b[43m(\u001b[49m\u001b[43mnrows\u001b[49m\u001b[43m)\u001b[49m\n\u001b[1;32m    235\u001b[0m         \u001b[38;5;66;03m# destructive to chunks\u001b[39;00m\n\u001b[1;32m    236\u001b[0m         data \u001b[38;5;241m=\u001b[39m _concatenate_chunks(chunks)\n",
      "File \u001b[0;32mparsers.pyx:843\u001b[0m, in \u001b[0;36mpandas._libs.parsers.TextReader.read_low_memory\u001b[0;34m()\u001b[0m\n",
      "File \u001b[0;32mparsers.pyx:904\u001b[0m, in \u001b[0;36mpandas._libs.parsers.TextReader._read_rows\u001b[0;34m()\u001b[0m\n",
      "File \u001b[0;32mparsers.pyx:879\u001b[0m, in \u001b[0;36mpandas._libs.parsers.TextReader._tokenize_rows\u001b[0;34m()\u001b[0m\n",
      "File \u001b[0;32mparsers.pyx:890\u001b[0m, in \u001b[0;36mpandas._libs.parsers.TextReader._check_tokenize_status\u001b[0;34m()\u001b[0m\n",
      "File \u001b[0;32mparsers.pyx:2058\u001b[0m, in \u001b[0;36mpandas._libs.parsers.raise_parser_error\u001b[0;34m()\u001b[0m\n",
      "\u001b[0;31mParserError\u001b[0m: Error tokenizing data. C error: Calling read(nbytes) on source failed. Try engine='python'."
     ]
    }
   ],
   "source": [
    "file_01 = pd.read_csv(\"/home/user/Desktop/data - 01.csv\", header=None)\n",
    "\n",
    "dkp_names = list(file_01[1])\n",
    "dkp_ids = list(file_01[0])\n",
    "\n",
    "dkp_ids = [get_dkp_id(x) for x in dkp_ids]\n",
    "\n",
    "solr = pysolr.Solr('http://localhost:8983/solr/Digikala', always_commit=True)\n",
    "\n",
    "for i in tqdm(range(len(dkp_ids))):\n",
    "\n",
    "    try:\n",
    "        solr.add(   \n",
    "            {\n",
    "                \"dkp_id\": dkp_ids[i],\n",
    "                \"dkp_name\": dkp_names[i],\n",
    "            }\n",
    "        )\n",
    "    except:\n",
    "        continue"
   ]
  },
  {
   "cell_type": "code",
   "execution_count": 14,
   "metadata": {},
   "outputs": [
    {
     "name": "stderr",
     "output_type": "stream",
     "text": [
      "100%|██████████| 1695824/1695824 [29:31:09<00:00, 15.96it/s]   \n"
     ]
    }
   ],
   "source": [
    "file_02 = pd.read_csv(\"/home/user/Desktop/data - 02.csv\", header=None)\n",
    "\n",
    "dkp_names = list(file_02[1])\n",
    "dkp_ids = list(file_02[0])\n",
    "\n",
    "dkp_ids = [get_dkp_id(x) for x in dkp_ids]\n",
    "\n",
    "solr = pysolr.Solr('http://localhost:8983/solr/Digikala', always_commit=True)\n",
    "\n",
    "for i in tqdm(range(len(dkp_ids))):\n",
    "\n",
    "    try:\n",
    "        solr.add(   \n",
    "            {\n",
    "                \"dkp_id\": dkp_ids[i],\n",
    "                \"dkp_name\": dkp_names[i],\n",
    "            }\n",
    "        )\n",
    "    except:\n",
    "        continue"
   ]
  },
  {
   "cell_type": "code",
   "execution_count": 15,
   "metadata": {},
   "outputs": [
    {
     "ename": "",
     "evalue": "",
     "output_type": "error",
     "traceback": [
      "\u001b[1;31mThe Kernel crashed while executing code in the current cell or a previous cell. \n",
      "\u001b[1;31mPlease review the code in the cell(s) to identify a possible cause of the failure. \n",
      "\u001b[1;31mClick <a href='https://aka.ms/vscodeJupyterKernelCrash'>here</a> for more info. \n",
      "\u001b[1;31mView Jupyter <a href='command:jupyter.viewOutput'>log</a> for further details."
     ]
    }
   ],
   "source": [
    "file_03 = pd.read_csv(\"/home/user/Desktop/data - 03.csv\", header=None)\n",
    "\n",
    "dkp_names = list(file_03[1])\n",
    "dkp_ids = list(file_03[0])\n",
    "\n",
    "dkp_ids = [get_dkp_id(x) for x in dkp_ids]\n",
    "\n",
    "solr = pysolr.Solr('http://localhost:8983/solr/Digikala', always_commit=True)\n",
    "\n",
    "for i in tqdm(range(len(dkp_ids))):\n",
    "\n",
    "    try:\n",
    "        solr.add(   \n",
    "            {\n",
    "                \"dkp_id\": dkp_ids[i],\n",
    "                \"dkp_name\": dkp_names[i],\n",
    "            }\n",
    "        )\n",
    "    except:\n",
    "        continue"
   ]
  },
  {
   "cell_type": "code",
   "execution_count": null,
   "metadata": {},
   "outputs": [],
   "source": [
    "file_04 = pd.read_csv(\"/home/user/Desktop/data - 04.csv\", header=None)\n",
    "\n",
    "dkp_names = list(file_04[1])\n",
    "dkp_ids = list(file_04[0])\n",
    "\n",
    "dkp_ids = [get_dkp_id(x) for x in dkp_ids]\n",
    "\n",
    "solr = pysolr.Solr('http://localhost:8983/solr/Digikala', always_commit=True)\n",
    "\n",
    "for i in tqdm(range(len(dkp_ids))):\n",
    "\n",
    "    try:\n",
    "        solr.add(   \n",
    "            {\n",
    "                \"dkp_id\": dkp_ids[i],\n",
    "                \"dkp_name\": dkp_names[i],\n",
    "            }\n",
    "        )\n",
    "    except:\n",
    "        continue"
   ]
  },
  {
   "cell_type": "code",
   "execution_count": null,
   "metadata": {},
   "outputs": [],
   "source": [
    "file_05 = pd.read_csv(\"/home/user/Desktop/data - 05.csv\", header=None)\n",
    "\n",
    "dkp_names = list(file_05[1])\n",
    "dkp_ids = list(file_05[0])\n",
    "\n",
    "dkp_ids = [get_dkp_id(x) for x in dkp_ids]\n",
    "\n",
    "solr = pysolr.Solr('http://localhost:8983/solr/Digikala', always_commit=True)\n",
    "\n",
    "for i in tqdm(range(len(dkp_ids))):\n",
    "\n",
    "    try:\n",
    "        solr.add(   \n",
    "            {\n",
    "                \"dkp_id\": dkp_ids[i],\n",
    "                \"dkp_name\": dkp_names[i],\n",
    "            }\n",
    "        )\n",
    "    except:\n",
    "        continue"
   ]
  },
  {
   "cell_type": "code",
   "execution_count": null,
   "metadata": {},
   "outputs": [],
   "source": [
    "file_06 = pd.read_csv(\"/home/user/Desktop/data - 06.csv\", header=None)\n",
    "\n",
    "dkp_names = list(file_06[1])\n",
    "dkp_ids = list(file_06[0])\n",
    "\n",
    "dkp_ids = [get_dkp_id(x) for x in dkp_ids]\n",
    "\n",
    "solr = pysolr.Solr('http://localhost:8983/solr/Digikala', always_commit=True)\n",
    "\n",
    "for i in tqdm(range(len(dkp_ids))):\n",
    "\n",
    "    try:\n",
    "        solr.add(   \n",
    "            {\n",
    "                \"dkp_id\": dkp_ids[i],\n",
    "                \"dkp_name\": dkp_names[i],\n",
    "            }\n",
    "        )\n",
    "    except:\n",
    "        continue"
   ]
  },
  {
   "cell_type": "code",
   "execution_count": null,
   "metadata": {},
   "outputs": [],
   "source": []
  }
 ],
 "metadata": {
  "kernelspec": {
   "display_name": "Python 3",
   "language": "python",
   "name": "python3"
  },
  "language_info": {
   "codemirror_mode": {
    "name": "ipython",
    "version": 3
   },
   "file_extension": ".py",
   "mimetype": "text/x-python",
   "name": "python",
   "nbconvert_exporter": "python",
   "pygments_lexer": "ipython3",
   "version": "3.10.12"
  }
 },
 "nbformat": 4,
 "nbformat_minor": 2
}
