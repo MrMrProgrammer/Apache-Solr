{
 "cells": [
  {
   "cell_type": "code",
   "execution_count": 1,
   "metadata": {},
   "outputs": [],
   "source": [
    "user_input = \"تاپ زنانه سرژه مدل رنگ صورتی\""
   ]
  },
  {
   "cell_type": "code",
   "execution_count": 2,
   "metadata": {},
   "outputs": [
    {
     "name": "stderr",
     "output_type": "stream",
     "text": [
      "/home/user/.local/lib/python3.10/site-packages/fuzzywuzzy/fuzz.py:11: UserWarning: Using slow pure-python SequenceMatcher. Install python-Levenshtein to remove this warning\n",
      "  warnings.warn('Using slow pure-python SequenceMatcher. Install python-Levenshtein to remove this warning')\n"
     ]
    }
   ],
   "source": [
    "import pysolr\n",
    "import pandas as pd\n",
    "from tqdm import tqdm\n",
    "from fuzzywuzzy import fuzz"
   ]
  },
  {
   "cell_type": "code",
   "execution_count": null,
   "metadata": {},
   "outputs": [],
   "source": [
    "def get_dkp_id(url):\n",
    "    try:\n",
    "        chunks = url.split(\"/\")\n",
    "\n",
    "        for chunk in chunks:\n",
    "            if chunk.startswith(\"dkp-\"):\n",
    "                section = chunk.split(\"-\")\n",
    "                return int(section[1])\n",
    "\n",
    "        return \"The entered link is not related to a product.\"\n",
    "\n",
    "    except:\n",
    "        return \"An Error has Occurred\""
   ]
  },
  {
   "cell_type": "code",
   "execution_count": null,
   "metadata": {},
   "outputs": [],
   "source": [
    "data = pd.read_csv(\"/home/user/Desktop/data - 05.csv\", header=None)"
   ]
  },
  {
   "cell_type": "code",
   "execution_count": null,
   "metadata": {},
   "outputs": [],
   "source": [
    "dkp_names = list(data[1])\n",
    "dkp_ids = list(data[0])\n",
    "\n",
    "dkp_ids = [get_dkp_id(x) for x in dkp_ids]"
   ]
  },
  {
   "cell_type": "code",
   "execution_count": null,
   "metadata": {},
   "outputs": [],
   "source": [
    "solr = pysolr.Solr('http://localhost:8983/solr/Digikala', always_commit=True)"
   ]
  },
  {
   "cell_type": "code",
   "execution_count": null,
   "metadata": {},
   "outputs": [],
   "source": [
    "solr.ping()"
   ]
  },
  {
   "cell_type": "code",
   "execution_count": null,
   "metadata": {},
   "outputs": [],
   "source": [
    "for i in tqdm(range(len(dkp_ids[:10000]))):\n",
    "    solr.add(   \n",
    "        {\n",
    "            \"dkp_id\": dkp_ids[i],\n",
    "            \"dkp_name\": dkp_names[i],\n",
    "        }\n",
    "    )"
   ]
  },
  {
   "cell_type": "code",
   "execution_count": 155,
   "metadata": {},
   "outputs": [],
   "source": [
    "result = solr.search(q=f'dkp_name:روسری زنانه مدل B022', rows=100, wt=\"python\", sort=\"score asc\")"
   ]
  },
  {
   "cell_type": "code",
   "execution_count": 156,
   "metadata": {},
   "outputs": [],
   "source": [
    "dkp_names_result = []"
   ]
  },
  {
   "cell_type": "code",
   "execution_count": 158,
   "metadata": {},
   "outputs": [
    {
     "name": "stdout",
     "output_type": "stream",
     "text": [
      "روسری زنانه مدل نخ پاییزه دست دوز  کد 2155\n",
      "روسری زنانه مدل N-Shokofeh 120\n",
      "روسری زنانه مدل 01 کد 1104\n",
      "روسری زنانه مدل 01 کد 1108\n",
      "روسری زنانه مدل N-100\n",
      "روسری زنانه مدل مجلسی 03\n",
      "روسری زنانه مدل Blazhia 02\n",
      "روسری زنانه مدل Blazhia 03\n",
      "روسری زنانه مدل Blzhia 04\n",
      "روسری زنانه مدل موهر 7010\n",
      "روسری زنانه کد 1106\n",
      "روسری زنانه مدل A001\n",
      "روسری زنانه مدل B022\n",
      "روسری زنانه مدل Blzhia01\n",
      "روسری زنانه مدل C003\n",
      "روسری زنانه مدل بابونه\n",
      "روسری زنانه مدل D004\n",
      "روسری زنانه مدل F05\n",
      "روسری زنانه مدل G007\n",
      "روسری زنانه مدل روسری آبرنگی\n"
     ]
    }
   ],
   "source": [
    "for i in result:\n",
    "    dkp_names_result.append(i[\"dkp_name\"][0])\n",
    "    print(i[\"dkp_name\"][0])"
   ]
  },
  {
   "cell_type": "code",
   "execution_count": 180,
   "metadata": {},
   "outputs": [],
   "source": [
    "def Levenshtein(product, dkp_names, dkp_ids):\n",
    "\n",
    "    max_score = 0\n",
    "    result = \"\"\n",
    "\n",
    "    for i in range(len(dkp_names)):\n",
    "\n",
    "        similarity_score = fuzz.ratio(user_input, dkp_names[i])\n",
    "\n",
    "        # print(f\"{similarity_score} : {item}\")\n",
    "\n",
    "        if similarity_score >= max_score:\n",
    "            max_score = similarity_score\n",
    "            result = dkp_names[i] \n",
    "            id = dkp_ids[i]           \n",
    "\n",
    "    return id, result"
   ]
  },
  {
   "cell_type": "code",
   "execution_count": 186,
   "metadata": {},
   "outputs": [
    {
     "ename": "TypeError",
     "evalue": "Levenshtein() missing 1 required positional argument: 'dkp_ids'",
     "output_type": "error",
     "traceback": [
      "\u001b[0;31m---------------------------------------------------------------------------\u001b[0m",
      "\u001b[0;31mTypeError\u001b[0m                                 Traceback (most recent call last)",
      "Cell \u001b[0;32mIn[186], line 1\u001b[0m\n\u001b[0;32m----> 1\u001b[0m last_result \u001b[38;5;241m=\u001b[39m \u001b[43mLevenshtein\u001b[49m\u001b[43m(\u001b[49m\u001b[43muser_input\u001b[49m\u001b[43m,\u001b[49m\u001b[43m \u001b[49m\u001b[43mdkp_names_result\u001b[49m\u001b[43m)\u001b[49m\n\u001b[1;32m      2\u001b[0m last_result\n",
      "\u001b[0;31mTypeError\u001b[0m: Levenshtein() missing 1 required positional argument: 'dkp_ids'"
     ]
    }
   ],
   "source": [
    "last_result = Levenshtein(user_input, dkp_names_result)\n",
    "last_result"
   ]
  },
  {
   "cell_type": "code",
   "execution_count": 181,
   "metadata": {},
   "outputs": [],
   "source": [
    "def find_dkp_link(product: str):\n",
    "\n",
    "    solr = pysolr.Solr('http://localhost:8983/solr/Digikala', always_commit=True)\n",
    "    result = solr.search(q=f'dkp_name:{product}', rows=100, wt=\"python\", sort=\"score asc\")\n",
    "    \n",
    "    dkp_names = []\n",
    "    dkp_ids = []\n",
    "\n",
    "    for i in result:\n",
    "        dkp_names.append(i[\"dkp_name\"][0])\n",
    "        dkp_ids.append(i[\"dkp_id\"][0])\n",
    "    \n",
    "    last_result = Levenshtein(product, dkp_names, dkp_ids)\n",
    "    \n",
    "    return last_result"
   ]
  },
  {
   "cell_type": "code",
   "execution_count": 187,
   "metadata": {},
   "outputs": [
    {
     "name": "stdout",
     "output_type": "stream",
     "text": [
      "10000283 | روسری زنانه مدل روسری آبرنگی\n"
     ]
    }
   ],
   "source": [
    "id, name = find_dkp_link(\"روسری زنانه مدل نخ پاییزه دست دوز\")\n",
    "print(f\"{id} | {name}\")"
   ]
  },
  {
   "cell_type": "code",
   "execution_count": null,
   "metadata": {},
   "outputs": [],
   "source": []
  }
 ],
 "metadata": {
  "kernelspec": {
   "display_name": "Python 3",
   "language": "python",
   "name": "python3"
  },
  "language_info": {
   "codemirror_mode": {
    "name": "ipython",
    "version": 3
   },
   "file_extension": ".py",
   "mimetype": "text/x-python",
   "name": "python",
   "nbconvert_exporter": "python",
   "pygments_lexer": "ipython3",
   "version": "3.10.12"
  }
 },
 "nbformat": 4,
 "nbformat_minor": 2
}
