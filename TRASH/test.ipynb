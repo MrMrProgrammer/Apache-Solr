{
 "cells": [
  {
   "cell_type": "code",
   "execution_count": 79,
   "metadata": {},
   "outputs": [],
   "source": [
    "import requests\n",
    "from tqdm import tqdm"
   ]
  },
  {
   "cell_type": "code",
   "execution_count": 16,
   "metadata": {},
   "outputs": [],
   "source": [
    "response = requests.get(\"http://localhost:8983/solr/gettingstarted/select?q=s*\")"
   ]
  },
  {
   "cell_type": "code",
   "execution_count": 17,
   "metadata": {},
   "outputs": [
    {
     "data": {
      "text/plain": [
       "0"
      ]
     },
     "execution_count": 17,
     "metadata": {},
     "output_type": "execute_result"
    }
   ],
   "source": [
    "response.json()['response']['numFound']"
   ]
  },
  {
   "cell_type": "code",
   "execution_count": 18,
   "metadata": {},
   "outputs": [],
   "source": [
    "import pysolr"
   ]
  },
  {
   "cell_type": "code",
   "execution_count": 35,
   "metadata": {},
   "outputs": [],
   "source": [
    "solr = pysolr.Solr('http://localhost:8983/solr/gettingstarted', always_commit=True)"
   ]
  },
  {
   "cell_type": "code",
   "execution_count": 23,
   "metadata": {},
   "outputs": [
    {
     "data": {
      "text/plain": [
       "<pysolr.Solr at 0x7d00220a9780>"
      ]
     },
     "execution_count": 23,
     "metadata": {},
     "output_type": "execute_result"
    }
   ],
   "source": [
    "solr"
   ]
  },
  {
   "cell_type": "code",
   "execution_count": 36,
   "metadata": {},
   "outputs": [
    {
     "data": {
      "text/plain": [
       "'{\\n  \"responseHeader\":{\\n    \"zkConnected\":null,\\n    \"status\":0,\\n    \"QTime\":0,\\n    \"params\":{\\n      \"q\":\"{!lucene}*:*\",\\n      \"distrib\":\"false\",\\n      \"df\":\"_text_\",\\n      \"rows\":\"10\",\\n      \"echoParams\":\"all\",\\n      \"rid\":\"null-539\"\\n    }\\n  },\\n  \"status\":\"OK\"\\n}'"
      ]
     },
     "execution_count": 36,
     "metadata": {},
     "output_type": "execute_result"
    }
   ],
   "source": [
    "solr.ping()"
   ]
  },
  {
   "cell_type": "code",
   "execution_count": 26,
   "metadata": {},
   "outputs": [
    {
     "data": {
      "text/plain": [
       "'{\\n  \"responseHeader\":{\\n    \"status\":0,\\n    \"QTime\":45\\n  }\\n}'"
      ]
     },
     "execution_count": 26,
     "metadata": {},
     "output_type": "execute_result"
    }
   ],
   "source": [
    "solr.add([\n",
    "    {\n",
    "        \"id\": \"doc_1\",\n",
    "        \"title\": \"A test document\",\n",
    "    },\n",
    "    {\n",
    "        \"id\": \"doc_2\",\n",
    "        \"title\": \"The Banana: Tasty or Dangerous?\",\n",
    "        \"_doc\": [\n",
    "            { \"id\": \"child_doc_1\", \"title\": \"peel\" },\n",
    "            { \"id\": \"child_doc_2\", \"title\": \"seed\" },\n",
    "        ]\n",
    "    },\n",
    "])"
   ]
  },
  {
   "cell_type": "code",
   "execution_count": 85,
   "metadata": {},
   "outputs": [],
   "source": [
    "result = solr.search(q='_dkp_name:*', rows=100, wt=\"xml\")"
   ]
  },
  {
   "cell_type": "code",
   "execution_count": 86,
   "metadata": {},
   "outputs": [
    {
     "name": "stderr",
     "output_type": "stream",
     "text": [
      "100%|██████████| 100/100 [00:00<00:00, 133619.11it/s]"
     ]
    },
    {
     "name": "stdout",
     "output_type": "stream",
     "text": [
      "[10000001]\n",
      "[10000002]\n",
      "[10000003]\n",
      "[10000005]\n",
      "[10000007]\n",
      "[10000008]\n",
      "[10000009]\n",
      "[10000010]\n",
      "[10000013]\n",
      "[10000015]\n",
      "[10000016]\n",
      "[10000017]\n",
      "[10000019]\n",
      "[10000021]\n",
      "[10000022]\n",
      "[10000023]\n",
      "[10000024]\n",
      "[10000025]\n",
      "[10000026]\n",
      "[10000028]\n",
      "[10000029]\n",
      "[10000030]\n",
      "[10000031]\n",
      "[10000033]\n",
      "[10000034]\n",
      "[10000035]\n",
      "[10000036]\n",
      "[10000037]\n",
      "[10000038]\n",
      "[10000040]\n",
      "[10000041]\n",
      "[10000044]\n",
      "[10000045]\n",
      "[10000046]\n",
      "[10000048]\n",
      "[10000050]\n",
      "[10000051]\n",
      "[10000052]\n",
      "[10000053]\n",
      "[10000054]\n",
      "[10000055]\n",
      "[10000057]\n",
      "[10000059]\n",
      "[10000061]\n",
      "[10000063]\n",
      "[10000065]\n",
      "[10000067]\n",
      "[10000068]\n",
      "[10000069]\n",
      "[10000070]\n",
      "[10000071]\n",
      "[10000072]\n",
      "[10000073]\n",
      "[10000074]\n",
      "[10000075]\n",
      "[10000076]\n",
      "[10000077]\n",
      "[10000078]\n",
      "[10000080]\n",
      "[10000081]\n",
      "[10000082]\n",
      "[10000083]\n",
      "[10000084]\n",
      "[10000087]\n",
      "[10000088]\n",
      "[10000089]\n",
      "[10000092]\n",
      "[10000093]\n",
      "[10000094]\n",
      "[10000095]\n",
      "[10000096]\n",
      "[10000098]\n",
      "[10000099]\n",
      "[10000100]\n",
      "[10000101]\n",
      "[10000102]\n",
      "[10000103]\n",
      "[10000104]\n",
      "[10000105]\n",
      "[10000107]\n",
      "[10000108]\n",
      "[10000109]\n",
      "[10000110]\n",
      "[10000111]\n",
      "[10000113]\n",
      "[10000114]\n",
      "[10000115]\n",
      "[10000116]\n",
      "[10000117]\n",
      "[10000118]\n",
      "[10000119]\n",
      "[10000120]\n",
      "[10000121]\n",
      "[10000122]\n",
      "[10000123]\n",
      "[10000124]\n",
      "[10000126]\n",
      "[10000127]\n",
      "[10000128]\n",
      "[10000129]\n"
     ]
    },
    {
     "name": "stderr",
     "output_type": "stream",
     "text": [
      "\n"
     ]
    }
   ],
   "source": [
    "for res in tqdm(result):\n",
    "    print(res[\"dkp_id\"])"
   ]
  },
  {
   "cell_type": "code",
   "execution_count": 59,
   "metadata": {},
   "outputs": [],
   "source": [
    "results = solr.search(q='_dkp_name:گوشی apple', **{\n",
    "    'hl': 'true',\n",
    "    'hl.fragsize': 10,\n",
    "})"
   ]
  },
  {
   "cell_type": "code",
   "execution_count": 60,
   "metadata": {},
   "outputs": [
    {
     "name": "stdout",
     "output_type": "stream",
     "text": [
      "The title is '[' پایه نگهدارنده گوشی موبایل پاپ سوکت مدل Karl']'.\n",
      "The title is '[' پایه نگهدارنده گوشی موبایل پاپ سوکت مدل Karl']'.\n",
      "The title is '[' پایه نگهدارنده گوشی موبایل پاپ سوکت مدل Karl']'.\n",
      "The title is '[' پایه نگهدارنده گوشی موبایل پاپ سوکت مدل Mandela']'.\n",
      "The title is '[' پایه نگهدارنده گوشی موبایل پاپ سوکت مدل NSA']'.\n",
      "The title is '[' پایه نگهدارنده گوشی موبایل پاپ سوکت مدل Owl']'.\n",
      "The title is '[' پایه نگهدارنده گوشی موبایل پاپ سوکت مدل set_bear_fall_boy']'.\n",
      "The title is '[' پایه نگهدارنده گوشی موبایل پاپ سوکت مدل set_bear_fall_girl']'.\n",
      "The title is '[' پایه نگهدارنده گوشی موبایل پاپ سوکت مدل Owl Snow']'.\n",
      "The title is '[' کاور کد 364234 مناسب برای گوشی موبایل سامسونگ Galaxy A04S ']'.\n"
     ]
    }
   ],
   "source": [
    "for res in results:\n",
    "    print(\"The title is '{0}'.\".format(res['_dkp_name']))"
   ]
  },
  {
   "cell_type": "code",
   "execution_count": null,
   "metadata": {},
   "outputs": [],
   "source": [
    "[{\n",
    "    \"dkp_id\":[10000017],\n",
    "    \"id\":\"eedb2433-3e0c-4f7e-9680-969c46defd1b\",\n",
    "    \"_dkp_name\":[\" کیت ماشین بازی مدل  paw patrol parking \"],\n",
    "    \"_version_\":1798386628296704002\n",
    "},{\n",
    "    \"dkp_id\":[10000017],\n",
    "    \"id\":\"51d88f08-880a-469a-bbcc-80112eceff51\",\n",
    "    \"_dkp_name\":[\" کیت ماشین بازی مدل  paw patrol parking \"],\n",
    "    \"_version_\":1798387665442177024\n",
    "},{\n",
    "    \"dkp_id\":[10000017],\n",
    "    \"id\":\"6eb8fbaa-ee21-49e4-a93a-7ee72c5108f4\",\n",
    "    \"_dkp_name\":[\" کیت ماشین بازی مدل  paw patrol parking \"],\n",
    "    \"_version_\":1798387749568380930\n",
    "},{\n",
    "    \"dkp_id\":[10000026],\n",
    "    \"id\":\"3298545f-ca2d-486f-b1b3-70cddf9f090e\",\n",
    "    \"_dkp_name\":[\" برچسب پوششی ماهوت مدل Paw Patrol مناسب برای گوشی موبایل هوآوی Nova Y70\"],\n",
    "    \"_version_\":1798386628299849729\n",
    "},{\n",
    "    \"dkp_id\":[10000026],\n",
    "    \"id\":\"4ddea4fe-1e20-410a-98b4-f81eed83a872\",\n",
    "    \"_dkp_name\":[\" برچسب پوششی ماهوت مدل Paw Patrol مناسب برای گوشی موبایل هوآوی Nova Y70\"],\n",
    "    \"_version_\":1798387665444274178\n",
    "},{\n",
    "    \"dkp_id\":[10000026],\n",
    "    \"id\":\"ef6abef6-48b2-450b-bc9b-d6d121c59d42\",\n",
    "    \"_dkp_name\":[\" برچسب پوششی ماهوت مدل Paw Patrol مناسب برای گوشی موبایل هوآوی Nova Y70\"],\n",
    "    \"_version_\":1798387749569429508\n",
    "},{\n",
    "    \"dkp_id\":[10000276],\n",
    "    \"id\":\"10a86f93-86e7-47f4-a381-eede41c572a2\",\n",
    "    \"_dkp_name\":[\" برچسب پوششی ماهوت مدل Paw Patrol-FullSkin مناسب برای گوشی موبایل آنر X9 5G\"],\n",
    "    \"_version_\":1798387749599838209\n",
    "}]"
   ]
  }
 ],
 "metadata": {
  "kernelspec": {
   "display_name": "Python 3",
   "language": "python",
   "name": "python3"
  },
  "language_info": {
   "codemirror_mode": {
    "name": "ipython",
    "version": 3
   },
   "file_extension": ".py",
   "mimetype": "text/x-python",
   "name": "python",
   "nbconvert_exporter": "python",
   "pygments_lexer": "ipython3",
   "version": "3.10.12"
  }
 },
 "nbformat": 4,
 "nbformat_minor": 2
}
